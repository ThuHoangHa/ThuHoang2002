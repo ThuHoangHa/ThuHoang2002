{
 "cells": [
  {
   "cell_type": "markdown",
   "metadata": {},
   "source": [
    "# Data loading, cleanup and processing"
   ]
  },
  {
   "cell_type": "markdown",
   "metadata": {},
   "source": [
    "The first step to a ML project is to obtain the dataset you will be working with. \n",
    "There are many repositories for materials science-specific data (whether online or offline)---consult the accompanying paper for a list of the more commonly used ones.\n",
    "\n",
    "Once you have identified the repository and dataset you will use for your project, you will have to download it to your local machine, or establish a way to reliably access the dataset.\n",
    "Consult the documentation of the repository for how to do this."
   ]
  },
  {
   "cell_type": "code",
   "execution_count": 5,
   "metadata": {},
   "outputs": [],
   "source": [
    "import os\n",
    "import numpy as np\n",
    "import pandas as pd\n",
    "import matplotlib.pyplot as plt\n",
    "%matplotlib inline\n",
    "%config InlineBackend.figure_format='retina'\n",
    "\n",
    "#from pandas_profiling import ProfileReport"
   ]
  },
  {
   "cell_type": "markdown",
   "metadata": {},
   "source": [
    "## Load data\n",
    "\n",
    "Using Pandas, we read in the dataset into a DataFrame. \n",
    "\n",
    "We also print the shape of the DataFrame, which indicates the number of rows and columns in this dataset."
   ]
  },
  {
   "cell_type": "code",
   "execution_count": 6,
   "metadata": {},
   "outputs": [
    {
     "name": "stdout",
     "output_type": "stream",
     "text": [
      "Original DataFrame shape: (3612, 3)\n"
     ]
    }
   ],
   "source": [
    "PATH = os.getcwd()\n",
    "data_path = os.path.join(PATH, '../data_abs/cp_data_abs_demo.csv')\n",
    "\n",
    "df = pd.read_csv(data_path)\n",
    "print(f'Original DataFrame shape: {df.shape}')"
   ]
  },
  {
   "cell_type": "markdown",
   "metadata": {},
   "source": [
    "This means that our input dataset has 3612 data samples, each with 3 variables."
   ]
  },
  {
   "cell_type": "markdown",
   "metadata": {},
   "source": [
    "## Examine the data\n",
    "\n",
    "We examine some rows and look at the data's basic statistics.\n",
    "\n",
    "We see that the dataset contains information about the formula, corresponding energy (in this case, temperature in K), and the target property, absorption coefficient."
   ]
  },
  {
   "cell_type": "markdown",
   "metadata": {},
   "source": [
    "We can get some simple summary statistics of the DataFrame by calling the `.describe()` method on the database."
   ]
  },
  {
   "cell_type": "code",
   "execution_count": 5,
   "metadata": {},
   "outputs": [
    {
     "data": {
      "text/html": [
       "<div>\n",
       "<style scoped>\n",
       "    .dataframe tbody tr th:only-of-type {\n",
       "        vertical-align: middle;\n",
       "    }\n",
       "\n",
       "    .dataframe tbody tr th {\n",
       "        vertical-align: top;\n",
       "    }\n",
       "\n",
       "    .dataframe thead th {\n",
       "        text-align: right;\n",
       "    }\n",
       "</style>\n",
       "<table border=\"1\" class=\"dataframe\">\n",
       "  <thead>\n",
       "    <tr style=\"text-align: right;\">\n",
       "      <th></th>\n",
       "      <th>energy</th>\n",
       "      <th>abs</th>\n",
       "    </tr>\n",
       "  </thead>\n",
       "  <tbody>\n",
       "    <tr>\n",
       "      <th>count</th>\n",
       "      <td>3612.000000</td>\n",
       "      <td>3612.000000</td>\n",
       "    </tr>\n",
       "    <tr>\n",
       "      <th>mean</th>\n",
       "      <td>2.500000</td>\n",
       "      <td>0.224144</td>\n",
       "    </tr>\n",
       "    <tr>\n",
       "      <th>std</th>\n",
       "      <td>1.448379</td>\n",
       "      <td>0.554535</td>\n",
       "    </tr>\n",
       "    <tr>\n",
       "      <th>min</th>\n",
       "      <td>0.000000</td>\n",
       "      <td>0.000000</td>\n",
       "    </tr>\n",
       "    <tr>\n",
       "      <th>25%</th>\n",
       "      <td>1.250000</td>\n",
       "      <td>0.010410</td>\n",
       "    </tr>\n",
       "    <tr>\n",
       "      <th>50%</th>\n",
       "      <td>2.500000</td>\n",
       "      <td>0.023550</td>\n",
       "    </tr>\n",
       "    <tr>\n",
       "      <th>75%</th>\n",
       "      <td>3.750000</td>\n",
       "      <td>0.098597</td>\n",
       "    </tr>\n",
       "    <tr>\n",
       "      <th>max</th>\n",
       "      <td>5.000000</td>\n",
       "      <td>3.196810</td>\n",
       "    </tr>\n",
       "  </tbody>\n",
       "</table>\n",
       "</div>"
      ],
      "text/plain": [
       "            energy          abs\n",
       "count  3612.000000  3612.000000\n",
       "mean      2.500000     0.224144\n",
       "std       1.448379     0.554535\n",
       "min       0.000000     0.000000\n",
       "25%       1.250000     0.010410\n",
       "50%       2.500000     0.023550\n",
       "75%       3.750000     0.098597\n",
       "max       5.000000     3.196810"
      ]
     },
     "execution_count": 5,
     "metadata": {},
     "output_type": "execute_result"
    }
   ],
   "source": [
    "df.describe()"
   ]
  },
  {
   "cell_type": "code",
   "execution_count": 13,
   "metadata": {},
   "outputs": [
    {
     "data": {
      "text/plain": [
       "(3612, 3)"
      ]
     },
     "execution_count": 13,
     "metadata": {},
     "output_type": "execute_result"
    }
   ],
   "source": [
    "df.shape"
   ]
  },
  {
   "cell_type": "markdown",
   "metadata": {},
   "source": [
    "## Rename the column names for brevity"
   ]
  },
  {
   "cell_type": "code",
   "execution_count": 6,
   "metadata": {},
   "outputs": [
    {
     "data": {
      "text/plain": [
       "Index(['formula', 'energy', 'abs'], dtype='object')"
      ]
     },
     "execution_count": 6,
     "metadata": {},
     "output_type": "execute_result"
    }
   ],
   "source": [
    "df.columns"
   ]
  },
  {
   "cell_type": "code",
   "execution_count": 7,
   "metadata": {},
   "outputs": [
    {
     "data": {
      "text/plain": [
       "Index(['formula', 'energy', 'abs'], dtype='object')"
      ]
     },
     "execution_count": 7,
     "metadata": {},
     "output_type": "execute_result"
    }
   ],
   "source": [
    "#rename_dict = {'FORMULA': 'formula',\n",
    "               #'CONDITION: : '',\n",
    "               #'PROPERTY: : ''}\n",
    "#df = df.rename(columns=rename_dict)\n",
    "df.columns"
   ]
  },
  {
   "cell_type": "markdown",
   "metadata": {},
   "source": [
    "## Check for and remove `NaN` values"
   ]
  },
  {
   "cell_type": "markdown",
   "metadata": {},
   "source": [
    "Here we can use the built-in Pandas methods to check for `NaN` values in the dataset, which are missing values.\n",
    "We then remove the dataset rows which contain `NaN` values."
   ]
  },
  {
   "cell_type": "code",
   "execution_count": 8,
   "metadata": {},
   "outputs": [
    {
     "name": "stdout",
     "output_type": "stream",
     "text": [
      "DataFrame shape before dropping NaNs: (3612, 3)\n",
      "DataFrame shape after dropping NaNs: (3612, 3)\n"
     ]
    }
   ],
   "source": [
    "# Check for NaNs in the respective dataset columns, and get the indices\n",
    "df2 = df.copy()\n",
    "bool_nans_formula = df2['formula'].isnull()\n",
    "bool_nans_E = df2['energy'].isnull()\n",
    "bool_nans_Abs = df2['abs'].isnull()\n",
    "\n",
    "# Drop the rows of the DataFrame which contain NaNs\n",
    "df2 = df2.drop(df2.loc[bool_nans_formula].index, axis=0)\n",
    "df2 = df2.drop(df2.loc[bool_nans_E].index, axis=0)\n",
    "df2 = df2.drop(df2.loc[bool_nans_Abs].index, axis=0)\n",
    "\n",
    "print(f'DataFrame shape before dropping NaNs: {df.shape}')\n",
    "print(f'DataFrame shape after dropping NaNs: {df2.shape}')"
   ]
  },
  {
   "cell_type": "code",
   "execution_count": 9,
   "metadata": {},
   "outputs": [
    {
     "name": "stdout",
     "output_type": "stream",
     "text": [
      "DataFrame shape before dropping NaNs: (3612, 3)\n",
      "DataFrame shape after dropping NaNs: (3612, 3)\n"
     ]
    }
   ],
   "source": [
    "df3 = df.copy()\n",
    "df3 = df3.dropna(axis=0, how='any')\n",
    "\n",
    "print(f'DataFrame shape before dropping NaNs: {df.shape}')\n",
    "print(f'DataFrame shape after dropping NaNs: {df3.shape}')\n",
    "\n",
    "df = df3.copy()"
   ]
  },
  {
   "cell_type": "markdown",
   "metadata": {},
   "source": [
    "## Check for and remove unrealistic values\n",
    "\n",
    "In some cases, you might also get data values that simply don't make sense.\n",
    "For our dase, this could be negative values in the temperature or heat capacity values."
   ]
  },
  {
   "cell_type": "code",
   "execution_count": 10,
   "metadata": {},
   "outputs": [
    {
     "name": "stdout",
     "output_type": "stream",
     "text": [
      "DataFrame shape after dropping unrealistic values: (3612, 3)\n"
     ]
    }
   ],
   "source": [
    "bool_invalid_E = df['energy'] < 0\n",
    "bool_invalid_Abs = df['abs'] < 0\n",
    "\n",
    "df = df.drop(df.loc[bool_invalid_E].index, axis=0)\n",
    "df = df.drop(df.loc[bool_invalid_Abs].index, axis=0)\n",
    "\n",
    "print(f'DataFrame shape after dropping unrealistic values: {df.shape}')"
   ]
  },
  {
   "cell_type": "markdown",
   "metadata": {},
   "source": [
    "## Save cleaned data to csv\n",
    "\n",
    "Finally, after cleaning and processing the data, you can save it to disk in a cleaned state for you to use later.\n",
    "\n",
    "Pandas allows us to save our data as a comma separated value `.csv` file. "
   ]
  },
  {
   "cell_type": "code",
   "execution_count": 12,
   "metadata": {},
   "outputs": [],
   "source": [
    "out_path = os.path.join(PATH, '../data_abs/cp_data_abs_cleaned.csv')\n",
    "df.to_csv(out_path, index=False)"
   ]
  },
  {
   "cell_type": "markdown",
   "metadata": {},
   "source": [
    "Note, your data can be saved in other file formats (such as hdf5) or in databases (such as SQL), but we will not go into the details of these formats.\n",
    "\n",
    "Typically, the amount of data you can gather for your ML project isn't large enough to warrant these approaches."
   ]
  }
 ],
 "metadata": {
  "kernelspec": {
   "display_name": "Python 3 (ipykernel)",
   "language": "python",
   "name": "python3"
  },
  "language_info": {
   "codemirror_mode": {
    "name": "ipython",
    "version": 3
   },
   "file_extension": ".py",
   "mimetype": "text/x-python",
   "name": "python",
   "nbconvert_exporter": "python",
   "pygments_lexer": "ipython3",
   "version": "3.11.5"
  }
 },
 "nbformat": 4,
 "nbformat_minor": 4
}
